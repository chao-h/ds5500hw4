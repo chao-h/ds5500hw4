{
 "cells": [
  {
   "cell_type": "code",
   "execution_count": 1,
   "metadata": {},
   "outputs": [],
   "source": [
    "%matplotlib inline\n",
    "import warnings\n",
    "warnings.filterwarnings('ignore')\n",
    "import pandas as pd\n",
    "import plotly.graph_objects as go\n",
    "import matplotlib.pyplot as plt\n",
    "import numpy as np\n",
    "from pathlib import Path"
   ]
  },
  {
   "cell_type": "code",
   "execution_count": 2,
   "metadata": {},
   "outputs": [],
   "source": [
    "PLOT = Path('plot/')\n",
    "PLOT.mkdir(exist_ok=True)"
   ]
  },
  {
   "cell_type": "markdown",
   "metadata": {},
   "source": [
    "# Load data"
   ]
  },
  {
   "cell_type": "code",
   "execution_count": 3,
   "metadata": {},
   "outputs": [
    {
     "name": "stdout",
     "output_type": "stream",
     "text": [
      "(18708, 260)\n"
     ]
    },
    {
     "data": {
      "text/html": [
       "<div>\n",
       "<style scoped>\n",
       "    .dataframe tbody tr th:only-of-type {\n",
       "        vertical-align: middle;\n",
       "    }\n",
       "\n",
       "    .dataframe tbody tr th {\n",
       "        vertical-align: top;\n",
       "    }\n",
       "\n",
       "    .dataframe thead th {\n",
       "        text-align: right;\n",
       "    }\n",
       "</style>\n",
       "<table border=\"1\" class=\"dataframe\">\n",
       "  <thead>\n",
       "    <tr style=\"text-align: right;\">\n",
       "      <th></th>\n",
       "      <th>LEAID</th>\n",
       "      <th>CENSUSID</th>\n",
       "      <th>FIPST</th>\n",
       "      <th>CONUM</th>\n",
       "      <th>CSA</th>\n",
       "      <th>CBSA</th>\n",
       "      <th>NAME</th>\n",
       "      <th>STNAME</th>\n",
       "      <th>STABBR</th>\n",
       "      <th>SCHLEV</th>\n",
       "      <th>...</th>\n",
       "      <th>FL_61V</th>\n",
       "      <th>FL_66V</th>\n",
       "      <th>FL_W01</th>\n",
       "      <th>FL_W31</th>\n",
       "      <th>FL_W61</th>\n",
       "      <th>FL_V95</th>\n",
       "      <th>FL_V02</th>\n",
       "      <th>FL_K14</th>\n",
       "      <th>FL_CE1</th>\n",
       "      <th>FL_CE2</th>\n",
       "    </tr>\n",
       "  </thead>\n",
       "  <tbody>\n",
       "    <tr>\n",
       "      <th>0</th>\n",
       "      <td>0100002</td>\n",
       "      <td>N</td>\n",
       "      <td>1</td>\n",
       "      <td>01073</td>\n",
       "      <td>142</td>\n",
       "      <td>13820</td>\n",
       "      <td>Alabama Youth Services</td>\n",
       "      <td>Alabama</td>\n",
       "      <td>AL</td>\n",
       "      <td>N</td>\n",
       "      <td>...</td>\n",
       "      <td>M</td>\n",
       "      <td>M</td>\n",
       "      <td>M</td>\n",
       "      <td>M</td>\n",
       "      <td>M</td>\n",
       "      <td>M</td>\n",
       "      <td>M</td>\n",
       "      <td>M</td>\n",
       "      <td>M</td>\n",
       "      <td>M</td>\n",
       "    </tr>\n",
       "    <tr>\n",
       "      <th>1</th>\n",
       "      <td>0100005</td>\n",
       "      <td>01504840100000</td>\n",
       "      <td>1</td>\n",
       "      <td>01095</td>\n",
       "      <td>290</td>\n",
       "      <td>10700</td>\n",
       "      <td>Albertville City</td>\n",
       "      <td>Alabama</td>\n",
       "      <td>AL</td>\n",
       "      <td>03</td>\n",
       "      <td>...</td>\n",
       "      <td>M</td>\n",
       "      <td>M</td>\n",
       "      <td>R</td>\n",
       "      <td>R</td>\n",
       "      <td>R</td>\n",
       "      <td>M</td>\n",
       "      <td>M</td>\n",
       "      <td>M</td>\n",
       "      <td>M</td>\n",
       "      <td>M</td>\n",
       "    </tr>\n",
       "  </tbody>\n",
       "</table>\n",
       "<p>2 rows × 260 columns</p>\n",
       "</div>"
      ],
      "text/plain": [
       "     LEAID        CENSUSID  FIPST  CONUM  CSA   CBSA                    NAME  \\\n",
       "0  0100002               N      1  01073  142  13820  Alabama Youth Services   \n",
       "1  0100005  01504840100000      1  01095  290  10700        Albertville City   \n",
       "\n",
       "    STNAME STABBR SCHLEV  ... FL_61V  FL_66V  FL_W01  FL_W31 FL_W61 FL_V95  \\\n",
       "0  Alabama     AL      N  ...      M       M       M       M      M      M   \n",
       "1  Alabama     AL     03  ...      M       M       R       R      R      M   \n",
       "\n",
       "   FL_V02  FL_K14  FL_CE1  FL_CE2  \n",
       "0       M       M       M       M  \n",
       "1       M       M       M       M  \n",
       "\n",
       "[2 rows x 260 columns]"
      ]
     },
     "execution_count": 3,
     "metadata": {},
     "output_type": "execute_result"
    }
   ],
   "source": [
    "df = pd.read_csv('data/Sdf16_1a.txt', sep='\\t', low_memory=False)\n",
    "# df.to_csv('data/Sdf16_1a.csv')\n",
    "print(df.shape)\n",
    "df.head(n=2)"
   ]
  },
  {
   "cell_type": "code",
   "execution_count": 4,
   "metadata": {},
   "outputs": [
    {
     "name": "stdout",
     "output_type": "stream",
     "text": [
      "(17593, 286)\n"
     ]
    },
    {
     "data": {
      "text/html": [
       "<div>\n",
       "<style scoped>\n",
       "    .dataframe tbody tr th:only-of-type {\n",
       "        vertical-align: middle;\n",
       "    }\n",
       "\n",
       "    .dataframe tbody tr th {\n",
       "        vertical-align: top;\n",
       "    }\n",
       "\n",
       "    .dataframe thead th {\n",
       "        text-align: right;\n",
       "    }\n",
       "</style>\n",
       "<table border=\"1\" class=\"dataframe\">\n",
       "  <thead>\n",
       "    <tr style=\"text-align: right;\">\n",
       "      <th></th>\n",
       "      <th>SURVYEAR</th>\n",
       "      <th>FIPST</th>\n",
       "      <th>STABR</th>\n",
       "      <th>STATENAME</th>\n",
       "      <th>SEANAME</th>\n",
       "      <th>LEAID</th>\n",
       "      <th>ST_LEAID</th>\n",
       "      <th>LEA_NAME</th>\n",
       "      <th>PK</th>\n",
       "      <th>KG</th>\n",
       "      <th>...</th>\n",
       "      <th>BLALF</th>\n",
       "      <th>WH</th>\n",
       "      <th>WHALM</th>\n",
       "      <th>WHALF</th>\n",
       "      <th>HP</th>\n",
       "      <th>HPALM</th>\n",
       "      <th>HPALF</th>\n",
       "      <th>TR</th>\n",
       "      <th>TRALM</th>\n",
       "      <th>TRALF</th>\n",
       "    </tr>\n",
       "  </thead>\n",
       "  <tbody>\n",
       "    <tr>\n",
       "      <th>0</th>\n",
       "      <td>2015-2016</td>\n",
       "      <td>1</td>\n",
       "      <td>AL</td>\n",
       "      <td>ALABAMA</td>\n",
       "      <td>Alabama Department Of Education</td>\n",
       "      <td>100002</td>\n",
       "      <td>210</td>\n",
       "      <td>Alabama Youth Services</td>\n",
       "      <td>-1</td>\n",
       "      <td>-1</td>\n",
       "      <td>...</td>\n",
       "      <td>-1</td>\n",
       "      <td>-1</td>\n",
       "      <td>-1</td>\n",
       "      <td>-1</td>\n",
       "      <td>-1</td>\n",
       "      <td>-1</td>\n",
       "      <td>-1</td>\n",
       "      <td>-1</td>\n",
       "      <td>-1</td>\n",
       "      <td>-1</td>\n",
       "    </tr>\n",
       "    <tr>\n",
       "      <th>1</th>\n",
       "      <td>2015-2016</td>\n",
       "      <td>1</td>\n",
       "      <td>AL</td>\n",
       "      <td>ALABAMA</td>\n",
       "      <td>Alabama Department Of Education</td>\n",
       "      <td>100005</td>\n",
       "      <td>101</td>\n",
       "      <td>Albertville City</td>\n",
       "      <td>118</td>\n",
       "      <td>491</td>\n",
       "      <td>...</td>\n",
       "      <td>68</td>\n",
       "      <td>2619</td>\n",
       "      <td>1310</td>\n",
       "      <td>1309</td>\n",
       "      <td>4</td>\n",
       "      <td>0</td>\n",
       "      <td>4</td>\n",
       "      <td>119</td>\n",
       "      <td>66</td>\n",
       "      <td>53</td>\n",
       "    </tr>\n",
       "  </tbody>\n",
       "</table>\n",
       "<p>2 rows × 286 columns</p>\n",
       "</div>"
      ],
      "text/plain": [
       "    SURVYEAR  FIPST STABR STATENAME                          SEANAME   LEAID  \\\n",
       "0  2015-2016      1    AL   ALABAMA  Alabama Department Of Education  100002   \n",
       "1  2015-2016      1    AL   ALABAMA  Alabama Department Of Education  100005   \n",
       "\n",
       "  ST_LEAID                LEA_NAME   PK   KG  ...  BLALF    WH  WHALM  WHALF  \\\n",
       "0      210  Alabama Youth Services   -1   -1  ...     -1    -1     -1     -1   \n",
       "1      101        Albertville City  118  491  ...     68  2619   1310   1309   \n",
       "\n",
       "   HP  HPALM  HPALF   TR  TRALM  TRALF  \n",
       "0  -1     -1     -1   -1     -1     -1  \n",
       "1   4      0      4  119     66     53  \n",
       "\n",
       "[2 rows x 286 columns]"
      ]
     },
     "execution_count": 4,
     "metadata": {},
     "output_type": "execute_result"
    }
   ],
   "source": [
    "df_ccd = pd.read_csv('data/ccd_lea_052_1516_w_1a_011717.csv', low_memory=False)\n",
    "print(df_ccd.shape)\n",
    "df_ccd.head(n=2)"
   ]
  },
  {
   "cell_type": "markdown",
   "metadata": {},
   "source": [
    "# Q1"
   ]
  },
  {
   "cell_type": "markdown",
   "metadata": {},
   "source": [
    "## prepare for for last output"
   ]
  },
  {
   "cell_type": "code",
   "execution_count": 5,
   "metadata": {},
   "outputs": [],
   "source": [
    "cut = sum(df['TFEDREV']) * 0.15\n",
    "df2 = df[['LEAID','STABBR','TOTALREV','TOTALEXP','V33']].copy()\n",
    "df2 = df2[0<df2['V33']]\n",
    "df2['profit'] = df2['TOTALREV'] - df2['TOTALEXP']\n",
    "df2['avg_profit'] = df2['profit'] / df2['V33']\n",
    "df2 = df2.sort_values('avg_profit', ascending=True)\n",
    "total_profit = sum(df2['profit'])\n",
    "total_profit, total_profit - cut\n",
    "profits = df2['profit']\n",
    "pos_profits = profits[profits>0]\n",
    "total_pos_profits = sum(pos_profits)\n",
    "def get_cut(profit):\n",
    "    if profit < 0:\n",
    "        return 0\n",
    "    return (cut / total_pos_profits) * profit\n",
    "df['profit'] = df['TOTALREV'] - df['TOTALEXP']\n",
    "df['cut'] = list(map(get_cut, list(df['profit'])))\n",
    "# df[['LEAID', 'cut']].head(n=10)"
   ]
  },
  {
   "cell_type": "markdown",
   "metadata": {},
   "source": [
    "## start calculation of proportion"
   ]
  },
  {
   "cell_type": "code",
   "execution_count": 6,
   "metadata": {},
   "outputs": [
    {
     "data": {
      "image/png": "[encoded data removed]",
      "text/plain": [
       "<Figure size 432x288 with 1 Axes>"
      ]
     },
     "metadata": {
      "needs_background": "light"
     },
     "output_type": "display_data"
    }
   ],
   "source": [
    "df['prop_cut'] = (df['cut'] / df['profit']).fillna(0)\n",
    "plt.hist(df['prop_cut'])\n",
    "plt.title('Cut proportion')\n",
    "plt.xlabel('proportion')\n",
    "plt.ylabel('count')\n",
    "plt.savefig(PLOT / 'cut_proportion')\n",
    "plt.show()"
   ]
  },
  {
   "cell_type": "markdown",
   "metadata": {},
   "source": [
    "## top cut district by total"
   ]
  },
  {
   "cell_type": "code",
   "execution_count": 7,
   "metadata": {},
   "outputs": [
    {
     "data": {
      "text/html": [
       "<div>\n",
       "<style scoped>\n",
       "    .dataframe tbody tr th:only-of-type {\n",
       "        vertical-align: middle;\n",
       "    }\n",
       "\n",
       "    .dataframe tbody tr th {\n",
       "        vertical-align: top;\n",
       "    }\n",
       "\n",
       "    .dataframe thead th {\n",
       "        text-align: right;\n",
       "    }\n",
       "</style>\n",
       "<table border=\"1\" class=\"dataframe\">\n",
       "  <thead>\n",
       "    <tr style=\"text-align: right;\">\n",
       "      <th></th>\n",
       "      <th>LEAID</th>\n",
       "      <th>cut</th>\n",
       "    </tr>\n",
       "  </thead>\n",
       "  <tbody>\n",
       "    <tr>\n",
       "      <th>1904</th>\n",
       "      <td>0622710</td>\n",
       "      <td>2.059519e+08</td>\n",
       "    </tr>\n",
       "    <tr>\n",
       "      <th>7676</th>\n",
       "      <td>2680995</td>\n",
       "      <td>9.943766e+07</td>\n",
       "    </tr>\n",
       "    <tr>\n",
       "      <th>3306</th>\n",
       "      <td>1500030</td>\n",
       "      <td>9.523291e+07</td>\n",
       "    </tr>\n",
       "    <tr>\n",
       "      <th>15038</th>\n",
       "      <td>4218990</td>\n",
       "      <td>6.616850e+07</td>\n",
       "    </tr>\n",
       "    <tr>\n",
       "      <th>6328</th>\n",
       "      <td>2400480</td>\n",
       "      <td>6.383239e+07</td>\n",
       "    </tr>\n",
       "  </tbody>\n",
       "</table>\n",
       "</div>"
      ],
      "text/plain": [
       "         LEAID           cut\n",
       "1904   0622710  2.059519e+08\n",
       "7676   2680995  9.943766e+07\n",
       "3306   1500030  9.523291e+07\n",
       "15038  4218990  6.616850e+07\n",
       "6328   2400480  6.383239e+07"
      ]
     },
     "execution_count": 7,
     "metadata": {},
     "output_type": "execute_result"
    }
   ],
   "source": [
    "df_sorted = df.sort_values('cut', ascending=False)\n",
    "df_sorted[['LEAID', 'cut']].head()"
   ]
  },
  {
   "cell_type": "markdown",
   "metadata": {},
   "source": [
    "# Q2"
   ]
  },
  {
   "cell_type": "code",
   "execution_count": 23,
   "metadata": {},
   "outputs": [],
   "source": [
    "def bihist(dataOne, dataTwo):\n",
    "    bins= np.linspace(0 ,1, 11)\n",
    "    _range = (min(dataOne + dataTwo), max(dataOne + dataTwo))\n",
    "    hN = plt.hist(dataOne, bins=bins, orientation='horizontal', normed=0,\n",
    "        rwidth=0.8, label='Affected by cut', range=_range, weights=np.ones(len(dataOne)) / len(dataOne))\n",
    "    hS = plt.hist(dataTwo, bins=bins, orientation='horizontal', normed=0, \n",
    "        rwidth=0.8, label='Not affected by cut', range=_range, weights=np.ones(len(dataTwo)) / len(dataTwo))\n",
    "\n",
    "    for p in hS[2]:\n",
    "        p.set_width( - p.get_width())\n",
    "\n",
    "    xmin = min([ min(w.get_width() for w in hS[2]), \n",
    "                    min([w.get_width() for w in hN[2]]) ])\n",
    "    xmin = np.floor(xmin)\n",
    "    xmax = max([ max(w.get_width() for w in hS[2]), \n",
    "                    max([w.get_width() for w in hN[2]]) ])\n",
    "    xmax = np.ceil(xmax)\n",
    "    range = xmax - xmin\n",
    "    delta = 0.0 * range\n",
    "    plt.xlim([xmin - delta, xmax + delta])\n",
    "#     plt.xlim(-15000, 15000)\n",
    "    xt = plt.xticks()\n",
    "    n = xt[0]\n",
    "    s = ['%.1f'%abs(i) for i in n]\n",
    "    plt.xticks(n, s)\n",
    "    plt.legend(loc='best')\n",
    "    plt.axvline(0.0)\n",
    "    plt.ylim(0, 1)"
   ]
  },
  {
   "cell_type": "code",
   "execution_count": 24,
   "metadata": {},
   "outputs": [],
   "source": [
    "df_ccd['LEAID'] = df_ccd['LEAID'].astype(str)\n",
    "df_race = df.merge(df_ccd[['LEAID', 'TOTAL', 'AM', 'AS', 'HI', 'BL', 'WH', 'HP', 'TR']])\n",
    "df_race_yes_cut = df_race[df_race['cut'] > 0]\n",
    "df_race_no_cut = df_race[df_race['cut'] <= 0]"
   ]
  },
  {
   "cell_type": "code",
   "execution_count": 25,
   "metadata": {},
   "outputs": [],
   "source": [
    "from matplotlib.ticker import PercentFormatter\n",
    "RACE_NAME = {\n",
    "    'AM': 'American Indian/Alaska Native',\n",
    "    'AS': 'Asian',\n",
    "    'HI': 'Hispanic',\n",
    "    'BL': 'Black',\n",
    "    'WH': 'White',\n",
    "    'HP': 'Hawaiian Native/Pacific Islander',\n",
    "    'TR': 'Two or More Races',\n",
    "}\n",
    "def bihist_for_race(race):\n",
    "    data_one = (df_race_yes_cut[race] / df_race_yes_cut['TOTAL']).fillna(0)\n",
    "    data_two = (df_race_no_cut[race] / df_race_no_cut['TOTAL']).fillna(0)\n",
    "    bihist(data_one, data_two)\n",
    "    plt.title('Race: {}'.format(RACE_NAME[race]))\n",
    "    plt.ylabel('Race Proportion')\n",
    "    plt.xlabel('LEA Proportion')\n",
    "    plt.gca().xaxis.set_major_formatter(PercentFormatter(1))\n",
    "    plt.savefig(PLOT / race)\n",
    "    plt.show()"
   ]
  },
  {
   "cell_type": "code",
   "execution_count": 26,
   "metadata": {},
   "outputs": [
    {
     "data": {
      "image/png": "[encoded data removed]",
      "text/plain": [
       "<Figure size 432x288 with 1 Axes>"
      ]
     },
     "metadata": {
      "needs_background": "light"
     },
     "output_type": "display_data"
    },
    {
     "data": {
      "image/png": "[encoded data removed]",
      "text/plain": [
       "<Figure size 432x288 with 1 Axes>"
      ]
     },
     "metadata": {
      "needs_background": "light"
     },
     "output_type": "display_data"
    },
    {
     "data": {
      "image/png": "[encoded data removed]",
      "text/plain": [
       "<Figure size 432x288 with 1 Axes>"
      ]
     },
     "metadata": {
      "needs_background": "light"
     },
     "output_type": "display_data"
    },
    {
     "data": {
      "image/png": "[encoded data removed]",
      "text/plain": [
       "<Figure size 432x288 with 1 Axes>"
      ]
     },
     "metadata": {
      "needs_background": "light"
     },
     "output_type": "display_data"
    },
    {
     "data": {
      "image/png": "[encoded data removed]",
      "text/plain": [
       "<Figure size 432x288 with 1 Axes>"
      ]
     },
     "metadata": {
      "needs_background": "light"
     },
     "output_type": "display_data"
    },
    {
     "data": {
      "image/png": "[encoded data removed]",
      "text/plain": [
       "<Figure size 432x288 with 1 Axes>"
      ]
     },
     "metadata": {
      "needs_background": "light"
     },
     "output_type": "display_data"
    },
    {
     "data": {
      "image/png": "[encoded data removed]",
      "text/plain": [
       "<Figure size 432x288 with 1 Axes>"
      ]
     },
     "metadata": {
      "needs_background": "light"
     },
     "output_type": "display_data"
    }
   ],
   "source": [
    "for race in RACE_NAME.keys():\n",
    "    bihist_for_race(race)"
   ]
  },
  {
   "cell_type": "markdown",
   "metadata": {},
   "source": [
    "# Q3"
   ]
  },
  {
   "cell_type": "code",
   "execution_count": 29,
   "metadata": {},
   "outputs": [
    {
     "data": {
      "text/html": [
       "<div>\n",
       "<style scoped>\n",
       "    .dataframe tbody tr th:only-of-type {\n",
       "        vertical-align: middle;\n",
       "    }\n",
       "\n",
       "    .dataframe tbody tr th {\n",
       "        vertical-align: top;\n",
       "    }\n",
       "\n",
       "    .dataframe thead th {\n",
       "        text-align: right;\n",
       "    }\n",
       "</style>\n",
       "<table border=\"1\" class=\"dataframe\">\n",
       "  <thead>\n",
       "    <tr style=\"text-align: right;\">\n",
       "      <th></th>\n",
       "      <th>LEAID</th>\n",
       "      <th>CENSUSID</th>\n",
       "      <th>FIPST</th>\n",
       "      <th>CONUM</th>\n",
       "      <th>CSA</th>\n",
       "      <th>CBSA</th>\n",
       "      <th>NAME</th>\n",
       "      <th>STNAME</th>\n",
       "      <th>STABBR</th>\n",
       "      <th>SCHLEV</th>\n",
       "      <th>...</th>\n",
       "      <th>prop_cut</th>\n",
       "      <th>TOTAL</th>\n",
       "      <th>AM</th>\n",
       "      <th>AS</th>\n",
       "      <th>HI</th>\n",
       "      <th>BL</th>\n",
       "      <th>WH</th>\n",
       "      <th>HP</th>\n",
       "      <th>TR</th>\n",
       "      <th>SPECED</th>\n",
       "    </tr>\n",
       "  </thead>\n",
       "  <tbody>\n",
       "    <tr>\n",
       "      <th>0</th>\n",
       "      <td>1000004</td>\n",
       "      <td>N</td>\n",
       "      <td>10</td>\n",
       "      <td>10003</td>\n",
       "      <td>428</td>\n",
       "      <td>37980</td>\n",
       "      <td>Charter School of Wilmington</td>\n",
       "      <td>Delaware</td>\n",
       "      <td>DE</td>\n",
       "      <td>02</td>\n",
       "      <td>...</td>\n",
       "      <td>0.320191</td>\n",
       "      <td>972</td>\n",
       "      <td>4</td>\n",
       "      <td>279</td>\n",
       "      <td>34</td>\n",
       "      <td>66</td>\n",
       "      <td>586</td>\n",
       "      <td>2</td>\n",
       "      <td>1</td>\n",
       "      <td>0</td>\n",
       "    </tr>\n",
       "    <tr>\n",
       "      <th>1</th>\n",
       "      <td>1000005</td>\n",
       "      <td>N</td>\n",
       "      <td>10</td>\n",
       "      <td>10001</td>\n",
       "      <td>428</td>\n",
       "      <td>20100</td>\n",
       "      <td>Positive Outcomes Charter School</td>\n",
       "      <td>Delaware</td>\n",
       "      <td>DE</td>\n",
       "      <td>02</td>\n",
       "      <td>...</td>\n",
       "      <td>0.320191</td>\n",
       "      <td>126</td>\n",
       "      <td>0</td>\n",
       "      <td>1</td>\n",
       "      <td>5</td>\n",
       "      <td>29</td>\n",
       "      <td>89</td>\n",
       "      <td>0</td>\n",
       "      <td>2</td>\n",
       "      <td>79</td>\n",
       "    </tr>\n",
       "  </tbody>\n",
       "</table>\n",
       "<p>2 rows × 272 columns</p>\n",
       "</div>"
      ],
      "text/plain": [
       "     LEAID CENSUSID  FIPST  CONUM  CSA   CBSA  \\\n",
       "0  1000004        N     10  10003  428  37980   \n",
       "1  1000005        N     10  10001  428  20100   \n",
       "\n",
       "                               NAME    STNAME STABBR SCHLEV  ...  prop_cut  \\\n",
       "0      Charter School of Wilmington  Delaware     DE     02  ...  0.320191   \n",
       "1  Positive Outcomes Charter School  Delaware     DE     02  ...  0.320191   \n",
       "\n",
       "   TOTAL  AM   AS  HI  BL   WH  HP  TR  SPECED  \n",
       "0    972   4  279  34  66  586   2   1       0  \n",
       "1    126   0    1   5  29   89   0   2      79  \n",
       "\n",
       "[2 rows x 272 columns]"
      ]
     },
     "execution_count": 29,
     "metadata": {},
     "output_type": "execute_result"
    }
   ],
   "source": [
    "df_ccd2 = pd.read_csv('data/ccd_lea_002089_1516_w_1a_011717.csv')\n",
    "df_ccd2['LEAID'] = df_ccd2['LEAID'].astype(str)\n",
    "df_dis = df_race.merge(df_ccd2[['LEAID', 'SPECED']])\n",
    "df_dis_yes_cut = df_dis[df_dis['cut'] > 0]\n",
    "df_dis_no_cut = df_dis[df_dis['cut'] <= 0]\n",
    "df_dis.head(n=2)"
   ]
  },
  {
   "cell_type": "code",
   "execution_count": 30,
   "metadata": {},
   "outputs": [
    {
     "data": {
      "image/png": "[encoded data removed]",
      "text/plain": [
       "<Figure size 432x288 with 1 Axes>"
      ]
     },
     "metadata": {
      "needs_background": "light"
     },
     "output_type": "display_data"
    }
   ],
   "source": [
    "def bihist_for_dis():\n",
    "    data_one = (df_dis_yes_cut['SPECED'] / df_dis_yes_cut['TOTAL']).fillna(0)\n",
    "    data_two = (df_dis_no_cut['SPECED'] / df_dis_no_cut['TOTAL']).fillna(0)\n",
    "    bihist(data_one, data_two)\n",
    "    plt.title('SPECED')\n",
    "    plt.ylabel('Proportion')\n",
    "    plt.xlabel('LEA count')\n",
    "    plt.savefig(PLOT / 'SPECED')\n",
    "    plt.show()\n",
    "bihist_for_dis()"
   ]
  },
  {
   "cell_type": "code",
   "execution_count": null,
   "metadata": {},
   "outputs": [],
   "source": []
  }
 ],
 "metadata": {
  "kernelspec": {
   "display_name": "Python 3",
   "language": "python",
   "name": "python3"
  },
  "language_info": {
   "codemirror_mode": {
    "name": "ipython",
    "version": 3
   },
   "file_extension": ".py",
   "mimetype": "text/x-python",
   "name": "python",
   "nbconvert_exporter": "python",
   "pygments_lexer": "ipython3",
   "version": "3.7.3"
  }
 },
 "nbformat": 4,
 "nbformat_minor": 4
}
